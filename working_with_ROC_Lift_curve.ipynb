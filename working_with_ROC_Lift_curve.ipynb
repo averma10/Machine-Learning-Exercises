{
 "cells": [
  {
   "cell_type": "markdown",
   "metadata": {},
   "source": [
    "# Understanding ROC and Lift Curves"
   ]
  },
  {
   "cell_type": "markdown",
   "metadata": {},
   "source": [
    "    Calculate performance of Naive Bayes for spotify dataset on any two classes since the ROC and lift curves can only be drawn for binary classification problems).\n",
    "\n",
    "** Considering ```[dinner]``` as positive class and rest as negative **"
   ]
  },
  {
   "cell_type": "code",
   "execution_count": 2,
   "metadata": {
    "collapsed": true
   },
   "outputs": [],
   "source": [
    "import pandas as pd\n",
    "import numpy as np\n",
    "\n",
    "import matplotlib.pyplot as plt\n",
    "%matplotlib inline\n",
    "\n",
    "from sklearn.model_selection import train_test_split"
   ]
  },
  {
   "cell_type": "code",
   "execution_count": 3,
   "metadata": {},
   "outputs": [
    {
     "data": {
      "text/html": [
       "<div>\n",
       "<style>\n",
       "    .dataframe thead tr:only-child th {\n",
       "        text-align: right;\n",
       "    }\n",
       "\n",
       "    .dataframe thead th {\n",
       "        text-align: left;\n",
       "    }\n",
       "\n",
       "    .dataframe tbody tr th {\n",
       "        vertical-align: top;\n",
       "    }\n",
       "</style>\n",
       "<table border=\"1\" class=\"dataframe\">\n",
       "  <thead>\n",
       "    <tr style=\"text-align: right;\">\n",
       "      <th></th>\n",
       "      <th>acousticness</th>\n",
       "      <th>danceability</th>\n",
       "      <th>duration_ms</th>\n",
       "      <th>energy</th>\n",
       "      <th>instrumentalness</th>\n",
       "      <th>key</th>\n",
       "      <th>liveness</th>\n",
       "      <th>loudness</th>\n",
       "      <th>mode</th>\n",
       "      <th>speechiness</th>\n",
       "      <th>tempo</th>\n",
       "      <th>time_signature</th>\n",
       "      <th>valence</th>\n",
       "      <th>moods</th>\n",
       "    </tr>\n",
       "  </thead>\n",
       "  <tbody>\n",
       "    <tr>\n",
       "      <th>0</th>\n",
       "      <td>0.838</td>\n",
       "      <td>0.602</td>\n",
       "      <td>475680</td>\n",
       "      <td>0.302</td>\n",
       "      <td>0.9070</td>\n",
       "      <td>8</td>\n",
       "      <td>0.1130</td>\n",
       "      <td>-11.627</td>\n",
       "      <td>1</td>\n",
       "      <td>0.0427</td>\n",
       "      <td>119.758</td>\n",
       "      <td>4</td>\n",
       "      <td>0.300</td>\n",
       "      <td>dinner</td>\n",
       "    </tr>\n",
       "    <tr>\n",
       "      <th>1</th>\n",
       "      <td>0.873</td>\n",
       "      <td>0.571</td>\n",
       "      <td>290293</td>\n",
       "      <td>0.346</td>\n",
       "      <td>0.5190</td>\n",
       "      <td>0</td>\n",
       "      <td>0.0980</td>\n",
       "      <td>-12.569</td>\n",
       "      <td>0</td>\n",
       "      <td>0.0409</td>\n",
       "      <td>93.885</td>\n",
       "      <td>4</td>\n",
       "      <td>0.687</td>\n",
       "      <td>dinner</td>\n",
       "    </tr>\n",
       "    <tr>\n",
       "      <th>2</th>\n",
       "      <td>0.876</td>\n",
       "      <td>0.427</td>\n",
       "      <td>291862</td>\n",
       "      <td>0.287</td>\n",
       "      <td>0.8740</td>\n",
       "      <td>11</td>\n",
       "      <td>0.1330</td>\n",
       "      <td>-19.834</td>\n",
       "      <td>1</td>\n",
       "      <td>0.0346</td>\n",
       "      <td>104.407</td>\n",
       "      <td>4</td>\n",
       "      <td>0.467</td>\n",
       "      <td>dinner</td>\n",
       "    </tr>\n",
       "    <tr>\n",
       "      <th>3</th>\n",
       "      <td>0.714</td>\n",
       "      <td>0.644</td>\n",
       "      <td>340693</td>\n",
       "      <td>0.205</td>\n",
       "      <td>0.0482</td>\n",
       "      <td>10</td>\n",
       "      <td>0.0510</td>\n",
       "      <td>-16.005</td>\n",
       "      <td>1</td>\n",
       "      <td>0.0397</td>\n",
       "      <td>118.314</td>\n",
       "      <td>4</td>\n",
       "      <td>0.411</td>\n",
       "      <td>dinner</td>\n",
       "    </tr>\n",
       "    <tr>\n",
       "      <th>4</th>\n",
       "      <td>0.703</td>\n",
       "      <td>0.532</td>\n",
       "      <td>482360</td>\n",
       "      <td>0.364</td>\n",
       "      <td>0.6180</td>\n",
       "      <td>9</td>\n",
       "      <td>0.0602</td>\n",
       "      <td>-13.068</td>\n",
       "      <td>0</td>\n",
       "      <td>0.0297</td>\n",
       "      <td>127.166</td>\n",
       "      <td>4</td>\n",
       "      <td>0.271</td>\n",
       "      <td>dinner</td>\n",
       "    </tr>\n",
       "  </tbody>\n",
       "</table>\n",
       "</div>"
      ],
      "text/plain": [
       "   acousticness  danceability  duration_ms  energy  instrumentalness  key  \\\n",
       "0         0.838         0.602       475680   0.302            0.9070    8   \n",
       "1         0.873         0.571       290293   0.346            0.5190    0   \n",
       "2         0.876         0.427       291862   0.287            0.8740   11   \n",
       "3         0.714         0.644       340693   0.205            0.0482   10   \n",
       "4         0.703         0.532       482360   0.364            0.6180    9   \n",
       "\n",
       "   liveness  loudness  mode  speechiness    tempo  time_signature  valence  \\\n",
       "0    0.1130   -11.627     1       0.0427  119.758               4    0.300   \n",
       "1    0.0980   -12.569     0       0.0409   93.885               4    0.687   \n",
       "2    0.1330   -19.834     1       0.0346  104.407               4    0.467   \n",
       "3    0.0510   -16.005     1       0.0397  118.314               4    0.411   \n",
       "4    0.0602   -13.068     0       0.0297  127.166               4    0.271   \n",
       "\n",
       "    moods  \n",
       "0  dinner  \n",
       "1  dinner  \n",
       "2  dinner  \n",
       "3  dinner  \n",
       "4  dinner  "
      ]
     },
     "execution_count": 3,
     "metadata": {},
     "output_type": "execute_result"
    }
   ],
   "source": [
    "#modify the data as per above consideration\n",
    "spotify = pd.read_csv('spotify_clean.csv')\n",
    "\n",
    "spotify.head()"
   ]
  },
  {
   "cell_type": "code",
   "execution_count": 4,
   "metadata": {
    "scrolled": true
   },
   "outputs": [
    {
     "data": {
      "text/plain": [
       "dinner            467\n",
       "sleep             362\n",
       "workout           310\n",
       "party             225\n",
       "party, workout     52\n",
       "Name: moods, dtype: int64"
      ]
     },
     "execution_count": 4,
     "metadata": {},
     "output_type": "execute_result"
    }
   ],
   "source": [
    "spotify.moods.value_counts()"
   ]
  },
  {
   "cell_type": "code",
   "execution_count": 5,
   "metadata": {
    "collapsed": true
   },
   "outputs": [],
   "source": [
    "#reassign the target and features columns\n",
    "y = spotify['moods']\n",
    "x = spotify[spotify.columns.values[:-1]]"
   ]
  },
  {
   "cell_type": "code",
   "execution_count": 6,
   "metadata": {
    "scrolled": true
   },
   "outputs": [
    {
     "data": {
      "text/plain": [
       "dinner            467\n",
       "sleep             362\n",
       "workout           310\n",
       "party             225\n",
       "party, workout     52\n",
       "Name: moods, dtype: int64"
      ]
     },
     "execution_count": 6,
     "metadata": {},
     "output_type": "execute_result"
    }
   ],
   "source": [
    "y.value_counts()"
   ]
  },
  {
   "cell_type": "code",
   "execution_count": 7,
   "metadata": {},
   "outputs": [
    {
     "data": {
      "text/plain": [
       "Int64Index([ 467,  468,  469,  470,  471,  472,  473,  474,  475,  476,\n",
       "            ...\n",
       "            1406, 1407, 1408, 1409, 1410, 1411, 1412, 1413, 1414, 1415],\n",
       "           dtype='int64', length=949)"
      ]
     },
     "execution_count": 7,
     "metadata": {},
     "output_type": "execute_result"
    }
   ],
   "source": [
    "idx = y.index[y.isin(['sleep','workout','party','party, workout'])]\n",
    "idx"
   ]
  },
  {
   "cell_type": "code",
   "execution_count": 8,
   "metadata": {},
   "outputs": [
    {
     "name": "stderr",
     "output_type": "stream",
     "text": [
      "C:\\Users\\Gurpreet\\Anaconda3\\lib\\site-packages\\pandas\\core\\indexing.py:179: SettingWithCopyWarning: \n",
      "A value is trying to be set on a copy of a slice from a DataFrame\n",
      "\n",
      "See the caveats in the documentation: http://pandas.pydata.org/pandas-docs/stable/indexing.html#indexing-view-versus-copy\n",
      "  self._setitem_with_indexer(indexer, value)\n"
     ]
    }
   ],
   "source": [
    "y.loc[idx] = 'other'"
   ]
  },
  {
   "cell_type": "code",
   "execution_count": 9,
   "metadata": {},
   "outputs": [
    {
     "data": {
      "text/plain": [
       "other     949\n",
       "dinner    467\n",
       "Name: moods, dtype: int64"
      ]
     },
     "execution_count": 9,
     "metadata": {},
     "output_type": "execute_result"
    }
   ],
   "source": [
    "y.value_counts()"
   ]
  },
  {
   "cell_type": "code",
   "execution_count": 12,
   "metadata": {},
   "outputs": [],
   "source": [
    "#create train_test_split\n",
    "\n",
    "xtrain,xtest,ytrain,ytest = train_test_split(x,y,test_size = 0.33,stratify=y)"
   ]
  },
  {
   "cell_type": "markdown",
   "metadata": {},
   "source": [
    "### Draw the ROC curves for the Naïve Bayes performance "
   ]
  },
  {
   "cell_type": "code",
   "execution_count": 13,
   "metadata": {
    "collapsed": true
   },
   "outputs": [],
   "source": [
    "from sklearn.metrics import roc_curve\n",
    "from sklearn.naive_bayes import GaussianNB"
   ]
  },
  {
   "cell_type": "code",
   "execution_count": 14,
   "metadata": {
    "collapsed": true
   },
   "outputs": [],
   "source": [
    "nbclf = GaussianNB()\n",
    "\n",
    "nbclf.fit(xtrain,ytrain)\n",
    "pred_train = nbclf.predict(xtrain)\n",
    "pred = nbclf.predict(xtest)\n",
    "\n",
    "pred_prob_train = nbclf.predict_proba(xtrain)[:,1]\n",
    "pred_prob = nbclf.predict_proba(xtest)[:,1]"
   ]
  },
  {
   "cell_type": "code",
   "execution_count": 15,
   "metadata": {
    "collapsed": true
   },
   "outputs": [],
   "source": [
    "fpr_tr,tpr_tr,thresh_tr = roc_curve(np.array(ytrain),pred_prob_train,pos_label='dinner')\n",
    "fpr,tpr,thresh = roc_curve(np.array(ytest),pred_prob,pos_label='dinner')"
   ]
  },
  {
   "cell_type": "code",
   "execution_count": 16,
   "metadata": {},
   "outputs": [
    {
     "data": {
      "image/png": "[encoded data removed]",
      "text/plain": [
       "<matplotlib.figure.Figure at 0x22c0a4c5a58>"
      ]
     },
     "metadata": {},
     "output_type": "display_data"
    }
   ],
   "source": [
    "\n",
    "plt.plot(fpr_tr,tpr_tr,'r',label='Train ROC')\n",
    "plt.plot(fpr,tpr,'b',label='Test ROC')\n",
    "plt.title('ROC curve for Naive Bayes performance')\n",
    "plt.xlabel('False Positive Rate')\n",
    "plt.ylabel('True Positive Rate')\n",
    "plt.legend(loc='lower right')\n",
    "plt.show()"
   ]
  },
  {
   "cell_type": "markdown",
   "metadata": {},
   "source": [
    "The test ROC is best when both TPR and FPR are around 0.4. At this point, the naive bayes performance is best. "
   ]
  },
  {
   "cell_type": "markdown",
   "metadata": {},
   "source": [
    "### Draw Lift Curves for Naive Bayes on Train and Test data"
   ]
  },
  {
   "cell_type": "code",
   "execution_count": 17,
   "metadata": {
    "collapsed": true
   },
   "outputs": [],
   "source": [
    "import scikitplot as skplot"
   ]
  },
  {
   "cell_type": "code",
   "execution_count": 18,
   "metadata": {
    "collapsed": true
   },
   "outputs": [],
   "source": [
    "pred_prob = nbclf.predict_proba(xtest)"
   ]
  },
  {
   "cell_type": "code",
   "execution_count": 19,
   "metadata": {},
   "outputs": [
    {
     "data": {
      "text/plain": [
       "<matplotlib.axes._subplots.AxesSubplot at 0x22c0ab3aa90>"
      ]
     },
     "execution_count": 19,
     "metadata": {},
     "output_type": "execute_result"
    },
    {
     "data": {
      "image/png": "[encoded data removed]",
      "text/plain": [
       "<matplotlib.figure.Figure at 0x22c0ab3a2b0>"
      ]
     },
     "metadata": {},
     "output_type": "display_data"
    }
   ],
   "source": [
    "skplot.metrics.plot_lift_curve(ytest,pred_prob)"
   ]
  },
  {
   "cell_type": "code",
   "execution_count": 20,
   "metadata": {},
   "outputs": [
    {
     "data": {
      "text/plain": [
       "<matplotlib.axes._subplots.AxesSubplot at 0x22c0ab27160>"
      ]
     },
     "execution_count": 20,
     "metadata": {},
     "output_type": "execute_result"
    },
    {
     "data": {
      "image/png": "[encoded data removed]",
      "text/plain": [
       "<matplotlib.figure.Figure at 0x22c0abd7898>"
      ]
     },
     "metadata": {},
     "output_type": "display_data"
    }
   ],
   "source": [
    "pred_prob_train = nbclf.predict_proba(xtrain)\n",
    "skplot.metrics.plot_lift_curve(ytrain, pred_prob_train)"
   ]
  },
  {
   "cell_type": "code",
   "execution_count": null,
   "metadata": {
    "collapsed": true
   },
   "outputs": [],
   "source": []
  }
 ],
 "metadata": {
  "kernelspec": {
   "display_name": "Python 3",
   "language": "python",
   "name": "python3"
  },
  "language_info": {
   "codemirror_mode": {
    "name": "ipython",
    "version": 3
   },
   "file_extension": ".py",
   "mimetype": "text/x-python",
   "name": "python",
   "nbconvert_exporter": "python",
   "pygments_lexer": "ipython3",
   "version": "3.6.2"
  }
 },
 "nbformat": 4,
 "nbformat_minor": 2
}
