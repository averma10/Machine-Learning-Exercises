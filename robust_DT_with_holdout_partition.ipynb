{
 "cells": [
  {
   "cell_type": "markdown",
   "metadata": {},
   "source": [
    "# Working with Spotify Data\n",
    "** Prepared By: Anuj Verma **\n",
    "\n",
    "*The objective of this exercise is to experiment with DecisionTrees and Naive Bayes classifiers with multiple (same size) samples as training and test sets (in other words, repeating the holdout procedure). This will lead to a more robust model using Decision Trees and gives us more confidence in our model's predictive power.*"
   ]
  },
  {
   "cell_type": "code",
   "execution_count": 2,
   "metadata": {},
   "outputs": [],
   "source": [
    "import pandas as pd\n",
    "import numpy as np\n",
    "\n",
    "#import itertools\n",
    "#from collections import defaultdict\n",
    "import matplotlib.pyplot as plt\n",
    "#import seaborn as sns\n",
    "%matplotlib inline\n",
    "\n",
    "#import support file\n",
    "import support_file as sf"
   ]
  },
  {
   "cell_type": "code",
   "execution_count": 3,
   "metadata": {
    "collapsed": true
   },
   "outputs": [],
   "source": [
    "#Load the data\n",
    "data = pd.read_csv('Spotify_Combined.csv',index_col='index')"
   ]
  },
  {
   "cell_type": "code",
   "execution_count": 4,
   "metadata": {},
   "outputs": [
    {
     "data": {
      "text/plain": [
       "(1420, 18)"
      ]
     },
     "execution_count": 4,
     "metadata": {},
     "output_type": "execute_result"
    }
   ],
   "source": [
    "data.shape"
   ]
  },
  {
   "cell_type": "code",
   "execution_count": 5,
   "metadata": {},
   "outputs": [
    {
     "data": {
      "text/html": [
       "<div>\n",
       "<style>\n",
       "    .dataframe thead tr:only-child th {\n",
       "        text-align: right;\n",
       "    }\n",
       "\n",
       "    .dataframe thead th {\n",
       "        text-align: left;\n",
       "    }\n",
       "\n",
       "    .dataframe tbody tr th {\n",
       "        vertical-align: top;\n",
       "    }\n",
       "</style>\n",
       "<table border=\"1\" class=\"dataframe\">\n",
       "  <thead>\n",
       "    <tr style=\"text-align: right;\">\n",
       "      <th></th>\n",
       "      <th>id</th>\n",
       "      <th>name</th>\n",
       "      <th>uri</th>\n",
       "      <th>artist</th>\n",
       "      <th>acousticness</th>\n",
       "      <th>danceability</th>\n",
       "      <th>duration_ms</th>\n",
       "      <th>energy</th>\n",
       "      <th>instrumentalness</th>\n",
       "      <th>key</th>\n",
       "      <th>liveness</th>\n",
       "      <th>loudness</th>\n",
       "      <th>mode</th>\n",
       "      <th>speechiness</th>\n",
       "      <th>tempo</th>\n",
       "      <th>time_signature</th>\n",
       "      <th>valence</th>\n",
       "      <th>mood(s)</th>\n",
       "    </tr>\n",
       "    <tr>\n",
       "      <th>index</th>\n",
       "      <th></th>\n",
       "      <th></th>\n",
       "      <th></th>\n",
       "      <th></th>\n",
       "      <th></th>\n",
       "      <th></th>\n",
       "      <th></th>\n",
       "      <th></th>\n",
       "      <th></th>\n",
       "      <th></th>\n",
       "      <th></th>\n",
       "      <th></th>\n",
       "      <th></th>\n",
       "      <th></th>\n",
       "      <th></th>\n",
       "      <th></th>\n",
       "      <th></th>\n",
       "      <th></th>\n",
       "    </tr>\n",
       "  </thead>\n",
       "  <tbody>\n",
       "    <tr>\n",
       "      <th>0</th>\n",
       "      <td>4dn6rw5Ze1uWrLm1uOk1gu</td>\n",
       "      <td>Stockholm Sweetnin'</td>\n",
       "      <td>spotify:track:4dn6rw5Ze1uWrLm1uOk1gu</td>\n",
       "      <td>Scott Hamilton, Jesper Lundgaard, Jan Lundgren...</td>\n",
       "      <td>0.838</td>\n",
       "      <td>0.602</td>\n",
       "      <td>475680</td>\n",
       "      <td>0.302</td>\n",
       "      <td>0.9070</td>\n",
       "      <td>8</td>\n",
       "      <td>0.1130</td>\n",
       "      <td>-11.627</td>\n",
       "      <td>1</td>\n",
       "      <td>0.0427</td>\n",
       "      <td>119.758</td>\n",
       "      <td>4</td>\n",
       "      <td>0.300</td>\n",
       "      <td>dinner</td>\n",
       "    </tr>\n",
       "    <tr>\n",
       "      <th>1</th>\n",
       "      <td>6CDQBADsdzJwc3qZ3OPDHH</td>\n",
       "      <td>Almost Like Being in Love</td>\n",
       "      <td>spotify:track:6CDQBADsdzJwc3qZ3OPDHH</td>\n",
       "      <td>Red Garland, Paul Chambers, Art Taylor,</td>\n",
       "      <td>0.873</td>\n",
       "      <td>0.571</td>\n",
       "      <td>290293</td>\n",
       "      <td>0.346</td>\n",
       "      <td>0.5190</td>\n",
       "      <td>0</td>\n",
       "      <td>0.0980</td>\n",
       "      <td>-12.569</td>\n",
       "      <td>0</td>\n",
       "      <td>0.0409</td>\n",
       "      <td>93.885</td>\n",
       "      <td>4</td>\n",
       "      <td>0.687</td>\n",
       "      <td>dinner</td>\n",
       "    </tr>\n",
       "    <tr>\n",
       "      <th>2</th>\n",
       "      <td>00CIFNT8kOm61dupysBFp8</td>\n",
       "      <td>Garden of Delight</td>\n",
       "      <td>spotify:track:00CIFNT8kOm61dupysBFp8</td>\n",
       "      <td>Jan Lundgren Trio,</td>\n",
       "      <td>0.876</td>\n",
       "      <td>0.427</td>\n",
       "      <td>291862</td>\n",
       "      <td>0.287</td>\n",
       "      <td>0.8740</td>\n",
       "      <td>11</td>\n",
       "      <td>0.1330</td>\n",
       "      <td>-19.834</td>\n",
       "      <td>1</td>\n",
       "      <td>0.0346</td>\n",
       "      <td>104.407</td>\n",
       "      <td>4</td>\n",
       "      <td>0.467</td>\n",
       "      <td>dinner</td>\n",
       "    </tr>\n",
       "    <tr>\n",
       "      <th>3</th>\n",
       "      <td>2z6D5bIA9Wprdqi1B8nnVh</td>\n",
       "      <td>New Orleans</td>\n",
       "      <td>spotify:track:2z6D5bIA9Wprdqi1B8nnVh</td>\n",
       "      <td>Wynton Marsalis,</td>\n",
       "      <td>0.714</td>\n",
       "      <td>0.644</td>\n",
       "      <td>340693</td>\n",
       "      <td>0.205</td>\n",
       "      <td>0.0482</td>\n",
       "      <td>10</td>\n",
       "      <td>0.0510</td>\n",
       "      <td>-16.005</td>\n",
       "      <td>1</td>\n",
       "      <td>0.0397</td>\n",
       "      <td>118.314</td>\n",
       "      <td>4</td>\n",
       "      <td>0.411</td>\n",
       "      <td>dinner</td>\n",
       "    </tr>\n",
       "    <tr>\n",
       "      <th>4</th>\n",
       "      <td>1ykNjOQbYJgZE3pflVB9MN</td>\n",
       "      <td>The Sequel</td>\n",
       "      <td>spotify:track:1ykNjOQbYJgZE3pflVB9MN</td>\n",
       "      <td>Wingspan,</td>\n",
       "      <td>0.703</td>\n",
       "      <td>0.532</td>\n",
       "      <td>482360</td>\n",
       "      <td>0.364</td>\n",
       "      <td>0.6180</td>\n",
       "      <td>9</td>\n",
       "      <td>0.0602</td>\n",
       "      <td>-13.068</td>\n",
       "      <td>0</td>\n",
       "      <td>0.0297</td>\n",
       "      <td>127.166</td>\n",
       "      <td>4</td>\n",
       "      <td>0.271</td>\n",
       "      <td>dinner</td>\n",
       "    </tr>\n",
       "  </tbody>\n",
       "</table>\n",
       "</div>"
      ],
      "text/plain": [
       "                           id                       name  \\\n",
       "index                                                      \n",
       "0      4dn6rw5Ze1uWrLm1uOk1gu        Stockholm Sweetnin'   \n",
       "1      6CDQBADsdzJwc3qZ3OPDHH  Almost Like Being in Love   \n",
       "2      00CIFNT8kOm61dupysBFp8          Garden of Delight   \n",
       "3      2z6D5bIA9Wprdqi1B8nnVh                New Orleans   \n",
       "4      1ykNjOQbYJgZE3pflVB9MN                 The Sequel   \n",
       "\n",
       "                                        uri  \\\n",
       "index                                         \n",
       "0      spotify:track:4dn6rw5Ze1uWrLm1uOk1gu   \n",
       "1      spotify:track:6CDQBADsdzJwc3qZ3OPDHH   \n",
       "2      spotify:track:00CIFNT8kOm61dupysBFp8   \n",
       "3      spotify:track:2z6D5bIA9Wprdqi1B8nnVh   \n",
       "4      spotify:track:1ykNjOQbYJgZE3pflVB9MN   \n",
       "\n",
       "                                                  artist  acousticness  \\\n",
       "index                                                                    \n",
       "0      Scott Hamilton, Jesper Lundgaard, Jan Lundgren...         0.838   \n",
       "1               Red Garland, Paul Chambers, Art Taylor,          0.873   \n",
       "2                                    Jan Lundgren Trio,          0.876   \n",
       "3                                      Wynton Marsalis,          0.714   \n",
       "4                                             Wingspan,          0.703   \n",
       "\n",
       "       danceability  duration_ms  energy  instrumentalness  key  liveness  \\\n",
       "index                                                                       \n",
       "0             0.602       475680   0.302            0.9070    8    0.1130   \n",
       "1             0.571       290293   0.346            0.5190    0    0.0980   \n",
       "2             0.427       291862   0.287            0.8740   11    0.1330   \n",
       "3             0.644       340693   0.205            0.0482   10    0.0510   \n",
       "4             0.532       482360   0.364            0.6180    9    0.0602   \n",
       "\n",
       "       loudness  mode  speechiness    tempo  time_signature  valence mood(s)  \n",
       "index                                                                         \n",
       "0       -11.627     1       0.0427  119.758               4    0.300  dinner  \n",
       "1       -12.569     0       0.0409   93.885               4    0.687  dinner  \n",
       "2       -19.834     1       0.0346  104.407               4    0.467  dinner  \n",
       "3       -16.005     1       0.0397  118.314               4    0.411  dinner  \n",
       "4       -13.068     0       0.0297  127.166               4    0.271  dinner  "
      ]
     },
     "execution_count": 5,
     "metadata": {},
     "output_type": "execute_result"
    }
   ],
   "source": [
    "data.head()"
   ]
  },
  {
   "cell_type": "code",
   "execution_count": 6,
   "metadata": {
    "collapsed": true
   },
   "outputs": [],
   "source": [
    "#rename the target column name\n",
    "data = data.rename(columns={'mood(s)':'moods'})"
   ]
  },
  {
   "cell_type": "markdown",
   "metadata": {},
   "source": [
    "<b> Note: I will Skip the Data Exploration for this notebook as it is already covered in previous one."
   ]
  },
  {
   "cell_type": "code",
   "execution_count": 7,
   "metadata": {},
   "outputs": [
    {
     "name": "stdout",
     "output_type": "stream",
     "text": [
      "Number of records in dataset: 1420\n",
      "Number of attributes in dataset: 18\n"
     ]
    }
   ],
   "source": [
    "print('Number of records in dataset:',data.shape[0])\n",
    "print('Number of attributes in dataset:',data.shape[1])"
   ]
  },
  {
   "cell_type": "code",
   "execution_count": 8,
   "metadata": {},
   "outputs": [
    {
     "data": {
      "image/png": "[encoded data removed]",
      "text/plain": [
       "<matplotlib.figure.Figure at 0x1cc285cac50>"
      ]
     },
     "metadata": {},
     "output_type": "display_data"
    }
   ],
   "source": [
    "sf.plot_count_distribution(data,'moods','Distibution of Musical Moods')"
   ]
  },
  {
   "cell_type": "markdown",
   "metadata": {},
   "source": [
    "### ```Issues in Dataset```\n",
    "From above plot, it is clear that we are dealing with a highly unbalanced data. This might impact the performance of our model as we will get biased results. \n",
    "<br> We will need to check the sensitivity and specificity of our data in addition to checking the RMSE values of our models as this will provide a correct measure to check the performance of our model."
   ]
  },
  {
   "cell_type": "markdown",
   "metadata": {},
   "source": [
    "#### Ways to handle very few class instances/representatives in multi-class classification\n",
    "<ul>    \n",
    "<li> Binning: Combine minority class with other classes to create a new class label.\n",
    "        <br>The decision of what classes to be combined, should be made after carefully investigating the two classes and there relationship to each other. This can be done by number of methods:\n",
    "        <ul>\n",
    "        <li>\n",
    "        Check the mean values of each attribute and comparing them one-by-one for each class and thus finding the class that is more comparable the minority class.\n",
    "        <li>Use kNN for the instances of minority class and locate the class nearest to these instances. Note: k-value for kNN needs to be optimized before making any decision)\n",
    "        <li>Other approaches that I am not aware of\n",
    "        </ul>\n",
    "<li> Clustering: The clustering of the data can be performed to create new classes with the desired number of clusters and using these new classes for generating predictions.\n",
    "<li> Oversampling with Synthetic Data: Create synthetic data with SMOTE and try to balance the unbalanced classes. The oversampling may not be desired for very few instance classes and should be used cautiosly.\n",
    "<li> Removal: Delete the instances of minority class. This is the easiest option and could be the only option left if any of above method does not give a satisfactory answer. However, We should keep in mind that deleting the instances of the minority class means that we are not training our model to identify these minority class. This means that, if we receive instances from this minority class in future then our model will fail to classify these instances correctly in minority class. This could be a subject of discussion as we will need to analyse how often can we receive instances from this minority class.\n",
    "</ul>     \n",
    "\n",
    "### For now, I will Remove classes `[dinner, party]` and `[dinner, workout]` since these have very few class representatives\n"
   ]
  },
  {
   "cell_type": "code",
   "execution_count": 9,
   "metadata": {
    "collapsed": true
   },
   "outputs": [],
   "source": [
    "idx = data.index[data['moods'].isin(['dinner, workout','dinner, party'])]"
   ]
  },
  {
   "cell_type": "code",
   "execution_count": 10,
   "metadata": {
    "collapsed": true
   },
   "outputs": [],
   "source": [
    "data_clean = data.drop(idx)"
   ]
  },
  {
   "cell_type": "code",
   "execution_count": 11,
   "metadata": {
    "scrolled": false
   },
   "outputs": [
    {
     "data": {
      "image/png": "[encoded data removed]",
      "text/plain": [
       "<matplotlib.figure.Figure at 0x1cc2ab20198>"
      ]
     },
     "metadata": {},
     "output_type": "display_data"
    }
   ],
   "source": [
    "sf.plot_count_distribution(data_clean,'moods','Distibution of Musical Moods')"
   ]
  },
  {
   "cell_type": "markdown",
   "metadata": {},
   "source": [
    "<b> The data set is still highly unbalanced. We will need to make it balanced in order to improve its performance. Later in teh notebook, we will use `SMOTE` oversampling and create synthetic data to balance the classes."
   ]
  },
  {
   "cell_type": "code",
   "execution_count": 12,
   "metadata": {
    "collapsed": true
   },
   "outputs": [],
   "source": [
    "#remove non-significant columns\n",
    "data_clean.drop(['id','name','uri','artist'],axis=1,inplace=True)"
   ]
  },
  {
   "cell_type": "code",
   "execution_count": 13,
   "metadata": {
    "collapsed": true
   },
   "outputs": [],
   "source": [
    "#save cleaned data\n",
    "\n",
    "data_clean.to_csv('spotify_clean.csv',index = False)"
   ]
  },
  {
   "cell_type": "code",
   "execution_count": 14,
   "metadata": {
    "collapsed": true
   },
   "outputs": [],
   "source": [
    "#load clean dataset\n",
    "spotify = pd.read_csv('spotify_clean.csv')"
   ]
  },
  {
   "cell_type": "code",
   "execution_count": 15,
   "metadata": {},
   "outputs": [
    {
     "data": {
      "text/html": [
       "<div>\n",
       "<style>\n",
       "    .dataframe thead tr:only-child th {\n",
       "        text-align: right;\n",
       "    }\n",
       "\n",
       "    .dataframe thead th {\n",
       "        text-align: left;\n",
       "    }\n",
       "\n",
       "    .dataframe tbody tr th {\n",
       "        vertical-align: top;\n",
       "    }\n",
       "</style>\n",
       "<table border=\"1\" class=\"dataframe\">\n",
       "  <thead>\n",
       "    <tr style=\"text-align: right;\">\n",
       "      <th></th>\n",
       "      <th>acousticness</th>\n",
       "      <th>danceability</th>\n",
       "      <th>duration_ms</th>\n",
       "      <th>energy</th>\n",
       "      <th>instrumentalness</th>\n",
       "      <th>key</th>\n",
       "      <th>liveness</th>\n",
       "      <th>loudness</th>\n",
       "      <th>mode</th>\n",
       "      <th>speechiness</th>\n",
       "      <th>tempo</th>\n",
       "      <th>time_signature</th>\n",
       "      <th>valence</th>\n",
       "      <th>moods</th>\n",
       "    </tr>\n",
       "  </thead>\n",
       "  <tbody>\n",
       "    <tr>\n",
       "      <th>0</th>\n",
       "      <td>0.838</td>\n",
       "      <td>0.602</td>\n",
       "      <td>475680</td>\n",
       "      <td>0.302</td>\n",
       "      <td>0.9070</td>\n",
       "      <td>8</td>\n",
       "      <td>0.1130</td>\n",
       "      <td>-11.627</td>\n",
       "      <td>1</td>\n",
       "      <td>0.0427</td>\n",
       "      <td>119.758</td>\n",
       "      <td>4</td>\n",
       "      <td>0.300</td>\n",
       "      <td>dinner</td>\n",
       "    </tr>\n",
       "    <tr>\n",
       "      <th>1</th>\n",
       "      <td>0.873</td>\n",
       "      <td>0.571</td>\n",
       "      <td>290293</td>\n",
       "      <td>0.346</td>\n",
       "      <td>0.5190</td>\n",
       "      <td>0</td>\n",
       "      <td>0.0980</td>\n",
       "      <td>-12.569</td>\n",
       "      <td>0</td>\n",
       "      <td>0.0409</td>\n",
       "      <td>93.885</td>\n",
       "      <td>4</td>\n",
       "      <td>0.687</td>\n",
       "      <td>dinner</td>\n",
       "    </tr>\n",
       "    <tr>\n",
       "      <th>2</th>\n",
       "      <td>0.876</td>\n",
       "      <td>0.427</td>\n",
       "      <td>291862</td>\n",
       "      <td>0.287</td>\n",
       "      <td>0.8740</td>\n",
       "      <td>11</td>\n",
       "      <td>0.1330</td>\n",
       "      <td>-19.834</td>\n",
       "      <td>1</td>\n",
       "      <td>0.0346</td>\n",
       "      <td>104.407</td>\n",
       "      <td>4</td>\n",
       "      <td>0.467</td>\n",
       "      <td>dinner</td>\n",
       "    </tr>\n",
       "    <tr>\n",
       "      <th>3</th>\n",
       "      <td>0.714</td>\n",
       "      <td>0.644</td>\n",
       "      <td>340693</td>\n",
       "      <td>0.205</td>\n",
       "      <td>0.0482</td>\n",
       "      <td>10</td>\n",
       "      <td>0.0510</td>\n",
       "      <td>-16.005</td>\n",
       "      <td>1</td>\n",
       "      <td>0.0397</td>\n",
       "      <td>118.314</td>\n",
       "      <td>4</td>\n",
       "      <td>0.411</td>\n",
       "      <td>dinner</td>\n",
       "    </tr>\n",
       "    <tr>\n",
       "      <th>4</th>\n",
       "      <td>0.703</td>\n",
       "      <td>0.532</td>\n",
       "      <td>482360</td>\n",
       "      <td>0.364</td>\n",
       "      <td>0.6180</td>\n",
       "      <td>9</td>\n",
       "      <td>0.0602</td>\n",
       "      <td>-13.068</td>\n",
       "      <td>0</td>\n",
       "      <td>0.0297</td>\n",
       "      <td>127.166</td>\n",
       "      <td>4</td>\n",
       "      <td>0.271</td>\n",
       "      <td>dinner</td>\n",
       "    </tr>\n",
       "  </tbody>\n",
       "</table>\n",
       "</div>"
      ],
      "text/plain": [
       "   acousticness  danceability  duration_ms  energy  instrumentalness  key  \\\n",
       "0         0.838         0.602       475680   0.302            0.9070    8   \n",
       "1         0.873         0.571       290293   0.346            0.5190    0   \n",
       "2         0.876         0.427       291862   0.287            0.8740   11   \n",
       "3         0.714         0.644       340693   0.205            0.0482   10   \n",
       "4         0.703         0.532       482360   0.364            0.6180    9   \n",
       "\n",
       "   liveness  loudness  mode  speechiness    tempo  time_signature  valence  \\\n",
       "0    0.1130   -11.627     1       0.0427  119.758               4    0.300   \n",
       "1    0.0980   -12.569     0       0.0409   93.885               4    0.687   \n",
       "2    0.1330   -19.834     1       0.0346  104.407               4    0.467   \n",
       "3    0.0510   -16.005     1       0.0397  118.314               4    0.411   \n",
       "4    0.0602   -13.068     0       0.0297  127.166               4    0.271   \n",
       "\n",
       "    moods  \n",
       "0  dinner  \n",
       "1  dinner  \n",
       "2  dinner  \n",
       "3  dinner  \n",
       "4  dinner  "
      ]
     },
     "execution_count": 15,
     "metadata": {},
     "output_type": "execute_result"
    }
   ],
   "source": [
    "spotify.head()"
   ]
  },
  {
   "cell_type": "markdown",
   "metadata": {},
   "source": [
    "## Create Robust DecisionTree and Naive-Bayes Models\n",
    "\n",
    "    - Create the DecisionTree and Naive-Bayes models and hyper-tune the parameters for best performance. \n",
    "    - Perform Holdout partitioning for n-epochs (min 30) to create robust and stable measures\n",
    "    - For best parameter configuration, report\n",
    "        Misclassification matrix, accuracy, sensitivity, and specificity\n",
    "    - Compare performances of Decision Tree and Naive Bayes models after n-epochs."
   ]
  },
  {
   "cell_type": "code",
   "execution_count": 16,
   "metadata": {
    "collapsed": true
   },
   "outputs": [],
   "source": [
    "from sklearn.tree import DecisionTreeClassifier\n",
    "from sklearn.naive_bayes import GaussianNB\n",
    "\n",
    "from sklearn.model_selection import train_test_split"
   ]
  },
  {
   "cell_type": "code",
   "execution_count": 17,
   "metadata": {
    "collapsed": true
   },
   "outputs": [],
   "source": [
    "#before train test split, let us split our target variable from attributes\n",
    "colnames = spotify.columns.values\n",
    "\n",
    "y = spotify['moods']\n",
    "x = spotify[colnames[:-1]]"
   ]
  },
  {
   "cell_type": "code",
   "execution_count": 18,
   "metadata": {
    "scrolled": true
   },
   "outputs": [
    {
     "data": {
      "text/html": [
       "<div>\n",
       "<style>\n",
       "    .dataframe thead tr:only-child th {\n",
       "        text-align: right;\n",
       "    }\n",
       "\n",
       "    .dataframe thead th {\n",
       "        text-align: left;\n",
       "    }\n",
       "\n",
       "    .dataframe tbody tr th {\n",
       "        vertical-align: top;\n",
       "    }\n",
       "</style>\n",
       "<table border=\"1\" class=\"dataframe\">\n",
       "  <thead>\n",
       "    <tr style=\"text-align: right;\">\n",
       "      <th></th>\n",
       "      <th>acousticness</th>\n",
       "      <th>danceability</th>\n",
       "      <th>duration_ms</th>\n",
       "      <th>energy</th>\n",
       "      <th>instrumentalness</th>\n",
       "      <th>key</th>\n",
       "      <th>liveness</th>\n",
       "      <th>loudness</th>\n",
       "      <th>mode</th>\n",
       "      <th>speechiness</th>\n",
       "      <th>tempo</th>\n",
       "      <th>time_signature</th>\n",
       "      <th>valence</th>\n",
       "    </tr>\n",
       "  </thead>\n",
       "  <tbody>\n",
       "    <tr>\n",
       "      <th>0</th>\n",
       "      <td>0.838</td>\n",
       "      <td>0.602</td>\n",
       "      <td>475680</td>\n",
       "      <td>0.302</td>\n",
       "      <td>0.9070</td>\n",
       "      <td>8</td>\n",
       "      <td>0.1130</td>\n",
       "      <td>-11.627</td>\n",
       "      <td>1</td>\n",
       "      <td>0.0427</td>\n",
       "      <td>119.758</td>\n",
       "      <td>4</td>\n",
       "      <td>0.300</td>\n",
       "    </tr>\n",
       "    <tr>\n",
       "      <th>1</th>\n",
       "      <td>0.873</td>\n",
       "      <td>0.571</td>\n",
       "      <td>290293</td>\n",
       "      <td>0.346</td>\n",
       "      <td>0.5190</td>\n",
       "      <td>0</td>\n",
       "      <td>0.0980</td>\n",
       "      <td>-12.569</td>\n",
       "      <td>0</td>\n",
       "      <td>0.0409</td>\n",
       "      <td>93.885</td>\n",
       "      <td>4</td>\n",
       "      <td>0.687</td>\n",
       "    </tr>\n",
       "    <tr>\n",
       "      <th>2</th>\n",
       "      <td>0.876</td>\n",
       "      <td>0.427</td>\n",
       "      <td>291862</td>\n",
       "      <td>0.287</td>\n",
       "      <td>0.8740</td>\n",
       "      <td>11</td>\n",
       "      <td>0.1330</td>\n",
       "      <td>-19.834</td>\n",
       "      <td>1</td>\n",
       "      <td>0.0346</td>\n",
       "      <td>104.407</td>\n",
       "      <td>4</td>\n",
       "      <td>0.467</td>\n",
       "    </tr>\n",
       "    <tr>\n",
       "      <th>3</th>\n",
       "      <td>0.714</td>\n",
       "      <td>0.644</td>\n",
       "      <td>340693</td>\n",
       "      <td>0.205</td>\n",
       "      <td>0.0482</td>\n",
       "      <td>10</td>\n",
       "      <td>0.0510</td>\n",
       "      <td>-16.005</td>\n",
       "      <td>1</td>\n",
       "      <td>0.0397</td>\n",
       "      <td>118.314</td>\n",
       "      <td>4</td>\n",
       "      <td>0.411</td>\n",
       "    </tr>\n",
       "    <tr>\n",
       "      <th>4</th>\n",
       "      <td>0.703</td>\n",
       "      <td>0.532</td>\n",
       "      <td>482360</td>\n",
       "      <td>0.364</td>\n",
       "      <td>0.6180</td>\n",
       "      <td>9</td>\n",
       "      <td>0.0602</td>\n",
       "      <td>-13.068</td>\n",
       "      <td>0</td>\n",
       "      <td>0.0297</td>\n",
       "      <td>127.166</td>\n",
       "      <td>4</td>\n",
       "      <td>0.271</td>\n",
       "    </tr>\n",
       "  </tbody>\n",
       "</table>\n",
       "</div>"
      ],
      "text/plain": [
       "   acousticness  danceability  duration_ms  energy  instrumentalness  key  \\\n",
       "0         0.838         0.602       475680   0.302            0.9070    8   \n",
       "1         0.873         0.571       290293   0.346            0.5190    0   \n",
       "2         0.876         0.427       291862   0.287            0.8740   11   \n",
       "3         0.714         0.644       340693   0.205            0.0482   10   \n",
       "4         0.703         0.532       482360   0.364            0.6180    9   \n",
       "\n",
       "   liveness  loudness  mode  speechiness    tempo  time_signature  valence  \n",
       "0    0.1130   -11.627     1       0.0427  119.758               4    0.300  \n",
       "1    0.0980   -12.569     0       0.0409   93.885               4    0.687  \n",
       "2    0.1330   -19.834     1       0.0346  104.407               4    0.467  \n",
       "3    0.0510   -16.005     1       0.0397  118.314               4    0.411  \n",
       "4    0.0602   -13.068     0       0.0297  127.166               4    0.271  "
      ]
     },
     "execution_count": 18,
     "metadata": {},
     "output_type": "execute_result"
    }
   ],
   "source": [
    "x.head()"
   ]
  },
  {
   "cell_type": "code",
   "execution_count": 19,
   "metadata": {
    "collapsed": true
   },
   "outputs": [],
   "source": [
    "#x,y,dt_param_grid,\n",
    "#split the data\n",
    "test_split_size = 0.33\n",
    "n_epochs = 30\n",
    "dt_param_grid = {'criterion':['gini','entropy'],\n",
    "                  'max_depth':[5,10,15,30,40],\n",
    "                  'min_sample_leaf': [1,5,10,20],\n",
    "                  'max_features': ['sqrt','log2',None],\n",
    "                  'random_state': [10]\n",
    "                }\n",
    "\n",
    "#initialize the dataframe to store the results\n",
    "results = pd.DataFrame(data=None,index=range(n_epochs),\\\n",
    "                           columns = ['run_id','dt_train_acc','dt_train_sensitivity','dt_train_specificity',\\\n",
    "                                      'dt_test_acc','dt_test_sensitivity','dt_test_specificity',\\\n",
    "                                      'nb_train_acc','nb_train_sensitivity','nb_train_specificity',\\\n",
    "                                      'nb_test_acc','nb_test_sensitivity','nb_test_specificity'])\n",
    "for idx in range(n_epochs):\n",
    "    results.loc[idx,'run_id'] = idx+1\n",
    "    \n",
    "    xtrain,xtest,ytrain, ytest = train_test_split(x,y,test_size = test_split_size,stratify = y)\n",
    "\n",
    "    #initialize DT instance\n",
    "    dtclf = DecisionTreeClassifier()\n",
    "\n",
    "    #Find best results for DT by Hyper-parameterization\n",
    "    dt_train_results,dt_test_results = sf.run_model_evaluations(xtrain,ytrain,xtest,ytest,dtclf,dt_param_grid,None)\n",
    "    \n",
    "    #store DT results\n",
    "    results.loc[idx,'dt_train_acc'],results.loc[idx,'dt_train_sensitivity'],results.loc[idx,'dt_train_specificity'] =dt_train_results\n",
    "    results.loc[idx,'dt_test_acc'],results.loc[idx,'dt_test_sensitivity'],results.loc[idx,'dt_test_specificity'] =dt_test_results\n",
    "    \n",
    "    #initialize Naive Bayes instance\n",
    "    nbclf = GaussianNB()\n",
    "    nb_train_results = sf.fit_and_evaluate(xtrain,ytrain,xtrain,ytrain,nbclf)\n",
    "    nb_test_results = sf.fit_and_evaluate(xtrain,ytrain,xtest,ytest,nbclf)\n",
    "    \n",
    "    #store NB results\n",
    "    results.loc[idx,'nb_train_acc'],results.loc[idx,'nb_train_sensitivity'],results.loc[idx,'nb_train_specificity'] =nb_train_results\n",
    "    results.loc[idx,'nb_test_acc'],results.loc[idx,'nb_test_sensitivity'],results.loc[idx,'nb_test_specificity'] =nb_test_results\n",
    "    "
   ]
  },
  {
   "cell_type": "code",
   "execution_count": 20,
   "metadata": {
    "scrolled": false
   },
   "outputs": [
    {
     "name": "stdout",
     "output_type": "stream",
     "text": [
      "Accuracy Results for 30 iterations\n"
     ]
    },
    {
     "data": {
      "text/html": [
       "<div>\n",
       "<style>\n",
       "    .dataframe thead tr:only-child th {\n",
       "        text-align: right;\n",
       "    }\n",
       "\n",
       "    .dataframe thead th {\n",
       "        text-align: left;\n",
       "    }\n",
       "\n",
       "    .dataframe tbody tr th {\n",
       "        vertical-align: top;\n",
       "    }\n",
       "</style>\n",
       "<table border=\"1\" class=\"dataframe\">\n",
       "  <thead>\n",
       "    <tr style=\"text-align: right;\">\n",
       "      <th></th>\n",
       "      <th>mean</th>\n",
       "      <th>var</th>\n",
       "      <th>std</th>\n",
       "    </tr>\n",
       "  </thead>\n",
       "  <tbody>\n",
       "    <tr>\n",
       "      <th>dt_train_acc</th>\n",
       "      <td>0.814909</td>\n",
       "      <td>0.002177</td>\n",
       "      <td>0.046655</td>\n",
       "    </tr>\n",
       "    <tr>\n",
       "      <th>dt_test_acc</th>\n",
       "      <td>0.751709</td>\n",
       "      <td>0.000176</td>\n",
       "      <td>0.013248</td>\n",
       "    </tr>\n",
       "    <tr>\n",
       "      <th>nb_train_acc</th>\n",
       "      <td>0.460513</td>\n",
       "      <td>0.000463</td>\n",
       "      <td>0.021525</td>\n",
       "    </tr>\n",
       "    <tr>\n",
       "      <th>nb_test_acc</th>\n",
       "      <td>0.463319</td>\n",
       "      <td>0.000791</td>\n",
       "      <td>0.028119</td>\n",
       "    </tr>\n",
       "  </tbody>\n",
       "</table>\n",
       "</div>"
      ],
      "text/plain": [
       "                  mean       var       std\n",
       "dt_train_acc  0.814909  0.002177  0.046655\n",
       "dt_test_acc   0.751709  0.000176  0.013248\n",
       "nb_train_acc  0.460513  0.000463  0.021525\n",
       "nb_test_acc   0.463319  0.000791  0.028119"
      ]
     },
     "execution_count": 20,
     "metadata": {},
     "output_type": "execute_result"
    }
   ],
   "source": [
    "print('Accuracy Results for {} iterations'.format(n_epochs))\n",
    "results[['dt_train_acc','dt_test_acc','nb_train_acc','nb_test_acc']].agg(['mean','var','std']).T"
   ]
  },
  {
   "cell_type": "markdown",
   "metadata": {},
   "source": [
    "### Use t-pair test\n",
    "    Compare the mean accuracy of the Naïve Bayes and the mean accuracy of the Decision tree"
   ]
  },
  {
   "cell_type": "code",
   "execution_count": 21,
   "metadata": {
    "collapsed": true
   },
   "outputs": [],
   "source": [
    "from scipy import stats"
   ]
  },
  {
   "cell_type": "markdown",
   "metadata": {},
   "source": [
    "    The following is a two-sided test for the null hypothesis (h0) that 2 independent samples Decision Tree(DT) accuracy and Naive Bayes (NB) accuracy have identical mean (expected) values. The alternate hypothesis is that there is significant difference between DT accuracy and NB accuracy mean values."
   ]
  },
  {
   "cell_type": "code",
   "execution_count": 22,
   "metadata": {},
   "outputs": [
    {
     "name": "stdout",
     "output_type": "stream",
     "text": [
      "T-value = 37.77864205055499, P-value = 2.237535055289659e-33\n"
     ]
    }
   ],
   "source": [
    "tvalue,pvalue = stats.ttest_ind(results['dt_train_acc'],results['nb_train_acc'],equal_var=False)\n",
    "print('T-value = {}, P-value = {}'.format(tvalue,pvalue))"
   ]
  },
  {
   "cell_type": "markdown",
   "metadata": {},
   "source": [
    "<b>Discussion:</b> From the above results, p-value is very small (almost zero). This implies that there is a significant difference between the mean accuracies of DT and NB models.\n",
    "    "
   ]
  },
  {
   "cell_type": "markdown",
   "metadata": {},
   "source": [
    "## Experiment with Varying train-test split sizes\n",
    "    \n",
    "    The objective of this exercise is to analyze the performance of the previously trained Naïve Bayes and decision trees classifiers as a function of the sample size. \n",
    "    \n",
    "    Vary the training sizes as [25%, 35%, 45%, 55%, 65%, 75%, 85%] and Plot the resubstitution error and generalization error for Decision Tree and Naive Bayes"
   ]
  },
  {
   "cell_type": "code",
   "execution_count": 23,
   "metadata": {
    "scrolled": true
   },
   "outputs": [
    {
     "name": "stdout",
     "output_type": "stream",
     "text": [
      "Calculate Results of 30 iterations for test split size: 0.75\n",
      "Calculate Results of 30 iterations for test split size: 0.65\n",
      "Calculate Results of 30 iterations for test split size: 0.55\n",
      "Calculate Results of 30 iterations for test split size: 0.45\n",
      "Calculate Results of 30 iterations for test split size: 0.35\n",
      "Calculate Results of 30 iterations for test split size: 0.25\n",
      "Calculate Results of 30 iterations for test split size: 0.15\n"
     ]
    }
   ],
   "source": [
    "#initialize variables\n",
    "train_split_size = np.array([.25,.35,.45,.55,.65,.75,.85])\n",
    "test_split_size = 1-train_split_size\n",
    "n_epochs = 30\n",
    "dt_param_grid = {'criterion':['gini','entropy'],\n",
    "                  'max_depth':[5,10,15,30,40],\n",
    "                  'min_sample_leaf': [1,5,10,20],\n",
    "                  'max_features': ['sqrt','log2',None],\n",
    "                  'random_state': [10]\n",
    "                }\n",
    "\n",
    "#initialize variables to store results\n",
    "error_results = np.zeros((len(test_split_size),4)) \n",
    "\n",
    "for idx in range(len(train_split_size)):\n",
    "    acc_results = sf.holdout_partition_and_eval(x,y,test_split_size[idx],n_epochs,dt_param_grid)\n",
    "    error_results[idx] = 1-acc_results\n"
   ]
  },
  {
   "cell_type": "code",
   "execution_count": 24,
   "metadata": {},
   "outputs": [
    {
     "data": {
      "text/plain": [
       "array([[0.19350282, 0.27959824, 0.51544256, 0.52473321],\n",
       "       [0.19420875, 0.26793341, 0.52835017, 0.54241766],\n",
       "       [0.19492412, 0.26576808, 0.54123496, 0.54540009],\n",
       "       [0.20317052, 0.25632184, 0.53329049, 0.54096134],\n",
       "       [0.20923913, 0.25040323, 0.53735507, 0.54348118],\n",
       "       [0.20627746, 0.23973635, 0.53716259, 0.54011299],\n",
       "       [0.18326406, 0.23223787, 0.53524522, 0.5456964 ]])"
      ]
     },
     "execution_count": 24,
     "metadata": {},
     "output_type": "execute_result"
    }
   ],
   "source": [
    "error_results"
   ]
  },
  {
   "cell_type": "markdown",
   "metadata": {},
   "source": [
    "#### Plot the error results"
   ]
  },
  {
   "cell_type": "code",
   "execution_count": 25,
   "metadata": {
    "scrolled": false
   },
   "outputs": [
    {
     "data": {
      "image/png": "[encoded data removed]",
      "text/plain": [
       "<matplotlib.figure.Figure at 0x1cc2abff240>"
      ]
     },
     "metadata": {},
     "output_type": "display_data"
    }
   ],
   "source": [
    "%matplotlib inline\n",
    "\n",
    "plt.Figure(figsize = (10,12))\n",
    "\n",
    "p1, = plt.plot(train_split_size,error_results[:,0:1].ravel(),'ro-',label = 'DT Train Error')\n",
    "p2, = plt.plot(train_split_size,error_results[:,1:2].ravel(),'ro--',label = 'DT Test Error')\n",
    "p3, = plt.plot(train_split_size,error_results[:,2:3].ravel(),'bo-',label = 'NB Train Error')\n",
    "p4, = plt.plot(train_split_size,error_results[:,3:4].ravel(),'bo--',label = 'NB Test Error')\n",
    "\n",
    "plt.title('Different Error Rates with Varying Training Sizes')\n",
    "plt.xticks(train_split_size)\n",
    "plt.xlabel('Train set size')\n",
    "plt.ylabel('Error Rate')\n",
    "plt.legend()\n",
    "plt.show()"
   ]
  },
  {
   "cell_type": "markdown",
   "metadata": {},
   "source": [
    "<b>Analysis</b>: For Naive Bayes error ratio is minimum around 0.45 and 0.65 train size. For Decision Tree the error is minimum around 0.85.\n",
    "\n",
    "Since we have obtained these results after 30-repeated holdout partitionings, both our models show stable results. Thus we can say that for this particular dataset the best train_test_split for NB would be around 65% and for DT would be around 85%.\n",
    "\n",
    "However, we cannot generalize our finding from this dataset. "
   ]
  },
  {
   "cell_type": "markdown",
   "metadata": {},
   "source": [
    "## Additional Datasets\n",
    "    Repeat Problem 2 on the following additional datasets and interpret the results:\n",
    "        winered.data: https://archive.ics.uci.edu/ml/datasets/Wine+Quality\n",
    "        banknote.data: https://archive.ics.uci.edu/ml/datasets/banknote+authentication\n"
   ]
  },
  {
   "cell_type": "code",
   "execution_count": 27,
   "metadata": {},
   "outputs": [],
   "source": [
    "wine = pd.read_csv('winequality-red.csv',delimiter=';')"
   ]
  },
  {
   "cell_type": "code",
   "execution_count": 28,
   "metadata": {},
   "outputs": [
    {
     "data": {
      "text/html": [
       "<div>\n",
       "<style>\n",
       "    .dataframe thead tr:only-child th {\n",
       "        text-align: right;\n",
       "    }\n",
       "\n",
       "    .dataframe thead th {\n",
       "        text-align: left;\n",
       "    }\n",
       "\n",
       "    .dataframe tbody tr th {\n",
       "        vertical-align: top;\n",
       "    }\n",
       "</style>\n",
       "<table border=\"1\" class=\"dataframe\">\n",
       "  <thead>\n",
       "    <tr style=\"text-align: right;\">\n",
       "      <th></th>\n",
       "      <th>fixed acidity</th>\n",
       "      <th>volatile acidity</th>\n",
       "      <th>citric acid</th>\n",
       "      <th>residual sugar</th>\n",
       "      <th>chlorides</th>\n",
       "      <th>free sulfur dioxide</th>\n",
       "      <th>total sulfur dioxide</th>\n",
       "      <th>density</th>\n",
       "      <th>pH</th>\n",
       "      <th>sulphates</th>\n",
       "      <th>alcohol</th>\n",
       "      <th>quality</th>\n",
       "    </tr>\n",
       "  </thead>\n",
       "  <tbody>\n",
       "    <tr>\n",
       "      <th>0</th>\n",
       "      <td>7.4</td>\n",
       "      <td>0.70</td>\n",
       "      <td>0.00</td>\n",
       "      <td>1.9</td>\n",
       "      <td>0.076</td>\n",
       "      <td>11.0</td>\n",
       "      <td>34.0</td>\n",
       "      <td>0.9978</td>\n",
       "      <td>3.51</td>\n",
       "      <td>0.56</td>\n",
       "      <td>9.4</td>\n",
       "      <td>5</td>\n",
       "    </tr>\n",
       "    <tr>\n",
       "      <th>1</th>\n",
       "      <td>7.8</td>\n",
       "      <td>0.88</td>\n",
       "      <td>0.00</td>\n",
       "      <td>2.6</td>\n",
       "      <td>0.098</td>\n",
       "      <td>25.0</td>\n",
       "      <td>67.0</td>\n",
       "      <td>0.9968</td>\n",
       "      <td>3.20</td>\n",
       "      <td>0.68</td>\n",
       "      <td>9.8</td>\n",
       "      <td>5</td>\n",
       "    </tr>\n",
       "    <tr>\n",
       "      <th>2</th>\n",
       "      <td>7.8</td>\n",
       "      <td>0.76</td>\n",
       "      <td>0.04</td>\n",
       "      <td>2.3</td>\n",
       "      <td>0.092</td>\n",
       "      <td>15.0</td>\n",
       "      <td>54.0</td>\n",
       "      <td>0.9970</td>\n",
       "      <td>3.26</td>\n",
       "      <td>0.65</td>\n",
       "      <td>9.8</td>\n",
       "      <td>5</td>\n",
       "    </tr>\n",
       "    <tr>\n",
       "      <th>3</th>\n",
       "      <td>11.2</td>\n",
       "      <td>0.28</td>\n",
       "      <td>0.56</td>\n",
       "      <td>1.9</td>\n",
       "      <td>0.075</td>\n",
       "      <td>17.0</td>\n",
       "      <td>60.0</td>\n",
       "      <td>0.9980</td>\n",
       "      <td>3.16</td>\n",
       "      <td>0.58</td>\n",
       "      <td>9.8</td>\n",
       "      <td>6</td>\n",
       "    </tr>\n",
       "    <tr>\n",
       "      <th>4</th>\n",
       "      <td>7.4</td>\n",
       "      <td>0.70</td>\n",
       "      <td>0.00</td>\n",
       "      <td>1.9</td>\n",
       "      <td>0.076</td>\n",
       "      <td>11.0</td>\n",
       "      <td>34.0</td>\n",
       "      <td>0.9978</td>\n",
       "      <td>3.51</td>\n",
       "      <td>0.56</td>\n",
       "      <td>9.4</td>\n",
       "      <td>5</td>\n",
       "    </tr>\n",
       "  </tbody>\n",
       "</table>\n",
       "</div>"
      ],
      "text/plain": [
       "   fixed acidity  volatile acidity  citric acid  residual sugar  chlorides  \\\n",
       "0            7.4              0.70         0.00             1.9      0.076   \n",
       "1            7.8              0.88         0.00             2.6      0.098   \n",
       "2            7.8              0.76         0.04             2.3      0.092   \n",
       "3           11.2              0.28         0.56             1.9      0.075   \n",
       "4            7.4              0.70         0.00             1.9      0.076   \n",
       "\n",
       "   free sulfur dioxide  total sulfur dioxide  density    pH  sulphates  \\\n",
       "0                 11.0                  34.0   0.9978  3.51       0.56   \n",
       "1                 25.0                  67.0   0.9968  3.20       0.68   \n",
       "2                 15.0                  54.0   0.9970  3.26       0.65   \n",
       "3                 17.0                  60.0   0.9980  3.16       0.58   \n",
       "4                 11.0                  34.0   0.9978  3.51       0.56   \n",
       "\n",
       "   alcohol  quality  \n",
       "0      9.4        5  \n",
       "1      9.8        5  \n",
       "2      9.8        5  \n",
       "3      9.8        6  \n",
       "4      9.4        5  "
      ]
     },
     "execution_count": 28,
     "metadata": {},
     "output_type": "execute_result"
    }
   ],
   "source": [
    "wine.head()"
   ]
  },
  {
   "cell_type": "code",
   "execution_count": 29,
   "metadata": {},
   "outputs": [
    {
     "data": {
      "text/html": [
       "<div>\n",
       "<style>\n",
       "    .dataframe thead tr:only-child th {\n",
       "        text-align: right;\n",
       "    }\n",
       "\n",
       "    .dataframe thead th {\n",
       "        text-align: left;\n",
       "    }\n",
       "\n",
       "    .dataframe tbody tr th {\n",
       "        vertical-align: top;\n",
       "    }\n",
       "</style>\n",
       "<table border=\"1\" class=\"dataframe\">\n",
       "  <thead>\n",
       "    <tr style=\"text-align: right;\">\n",
       "      <th></th>\n",
       "      <th>count</th>\n",
       "      <th>mean</th>\n",
       "      <th>std</th>\n",
       "      <th>min</th>\n",
       "      <th>25%</th>\n",
       "      <th>50%</th>\n",
       "      <th>75%</th>\n",
       "      <th>max</th>\n",
       "    </tr>\n",
       "  </thead>\n",
       "  <tbody>\n",
       "    <tr>\n",
       "      <th>fixed acidity</th>\n",
       "      <td>1599.0</td>\n",
       "      <td>8.319637</td>\n",
       "      <td>1.741096</td>\n",
       "      <td>4.60000</td>\n",
       "      <td>7.1000</td>\n",
       "      <td>7.90000</td>\n",
       "      <td>9.200000</td>\n",
       "      <td>15.90000</td>\n",
       "    </tr>\n",
       "    <tr>\n",
       "      <th>volatile acidity</th>\n",
       "      <td>1599.0</td>\n",
       "      <td>0.527821</td>\n",
       "      <td>0.179060</td>\n",
       "      <td>0.12000</td>\n",
       "      <td>0.3900</td>\n",
       "      <td>0.52000</td>\n",
       "      <td>0.640000</td>\n",
       "      <td>1.58000</td>\n",
       "    </tr>\n",
       "    <tr>\n",
       "      <th>citric acid</th>\n",
       "      <td>1599.0</td>\n",
       "      <td>0.270976</td>\n",
       "      <td>0.194801</td>\n",
       "      <td>0.00000</td>\n",
       "      <td>0.0900</td>\n",
       "      <td>0.26000</td>\n",
       "      <td>0.420000</td>\n",
       "      <td>1.00000</td>\n",
       "    </tr>\n",
       "    <tr>\n",
       "      <th>residual sugar</th>\n",
       "      <td>1599.0</td>\n",
       "      <td>2.538806</td>\n",
       "      <td>1.409928</td>\n",
       "      <td>0.90000</td>\n",
       "      <td>1.9000</td>\n",
       "      <td>2.20000</td>\n",
       "      <td>2.600000</td>\n",
       "      <td>15.50000</td>\n",
       "    </tr>\n",
       "    <tr>\n",
       "      <th>chlorides</th>\n",
       "      <td>1599.0</td>\n",
       "      <td>0.087467</td>\n",
       "      <td>0.047065</td>\n",
       "      <td>0.01200</td>\n",
       "      <td>0.0700</td>\n",
       "      <td>0.07900</td>\n",
       "      <td>0.090000</td>\n",
       "      <td>0.61100</td>\n",
       "    </tr>\n",
       "    <tr>\n",
       "      <th>free sulfur dioxide</th>\n",
       "      <td>1599.0</td>\n",
       "      <td>15.874922</td>\n",
       "      <td>10.460157</td>\n",
       "      <td>1.00000</td>\n",
       "      <td>7.0000</td>\n",
       "      <td>14.00000</td>\n",
       "      <td>21.000000</td>\n",
       "      <td>72.00000</td>\n",
       "    </tr>\n",
       "    <tr>\n",
       "      <th>total sulfur dioxide</th>\n",
       "      <td>1599.0</td>\n",
       "      <td>46.467792</td>\n",
       "      <td>32.895324</td>\n",
       "      <td>6.00000</td>\n",
       "      <td>22.0000</td>\n",
       "      <td>38.00000</td>\n",
       "      <td>62.000000</td>\n",
       "      <td>289.00000</td>\n",
       "    </tr>\n",
       "    <tr>\n",
       "      <th>density</th>\n",
       "      <td>1599.0</td>\n",
       "      <td>0.996747</td>\n",
       "      <td>0.001887</td>\n",
       "      <td>0.99007</td>\n",
       "      <td>0.9956</td>\n",
       "      <td>0.99675</td>\n",
       "      <td>0.997835</td>\n",
       "      <td>1.00369</td>\n",
       "    </tr>\n",
       "    <tr>\n",
       "      <th>pH</th>\n",
       "      <td>1599.0</td>\n",
       "      <td>3.311113</td>\n",
       "      <td>0.154386</td>\n",
       "      <td>2.74000</td>\n",
       "      <td>3.2100</td>\n",
       "      <td>3.31000</td>\n",
       "      <td>3.400000</td>\n",
       "      <td>4.01000</td>\n",
       "    </tr>\n",
       "    <tr>\n",
       "      <th>sulphates</th>\n",
       "      <td>1599.0</td>\n",
       "      <td>0.658149</td>\n",
       "      <td>0.169507</td>\n",
       "      <td>0.33000</td>\n",
       "      <td>0.5500</td>\n",
       "      <td>0.62000</td>\n",
       "      <td>0.730000</td>\n",
       "      <td>2.00000</td>\n",
       "    </tr>\n",
       "    <tr>\n",
       "      <th>alcohol</th>\n",
       "      <td>1599.0</td>\n",
       "      <td>10.422983</td>\n",
       "      <td>1.065668</td>\n",
       "      <td>8.40000</td>\n",
       "      <td>9.5000</td>\n",
       "      <td>10.20000</td>\n",
       "      <td>11.100000</td>\n",
       "      <td>14.90000</td>\n",
       "    </tr>\n",
       "    <tr>\n",
       "      <th>quality</th>\n",
       "      <td>1599.0</td>\n",
       "      <td>5.636023</td>\n",
       "      <td>0.807569</td>\n",
       "      <td>3.00000</td>\n",
       "      <td>5.0000</td>\n",
       "      <td>6.00000</td>\n",
       "      <td>6.000000</td>\n",
       "      <td>8.00000</td>\n",
       "    </tr>\n",
       "  </tbody>\n",
       "</table>\n",
       "</div>"
      ],
      "text/plain": [
       "                       count       mean        std      min      25%  \\\n",
       "fixed acidity         1599.0   8.319637   1.741096  4.60000   7.1000   \n",
       "volatile acidity      1599.0   0.527821   0.179060  0.12000   0.3900   \n",
       "citric acid           1599.0   0.270976   0.194801  0.00000   0.0900   \n",
       "residual sugar        1599.0   2.538806   1.409928  0.90000   1.9000   \n",
       "chlorides             1599.0   0.087467   0.047065  0.01200   0.0700   \n",
       "free sulfur dioxide   1599.0  15.874922  10.460157  1.00000   7.0000   \n",
       "total sulfur dioxide  1599.0  46.467792  32.895324  6.00000  22.0000   \n",
       "density               1599.0   0.996747   0.001887  0.99007   0.9956   \n",
       "pH                    1599.0   3.311113   0.154386  2.74000   3.2100   \n",
       "sulphates             1599.0   0.658149   0.169507  0.33000   0.5500   \n",
       "alcohol               1599.0  10.422983   1.065668  8.40000   9.5000   \n",
       "quality               1599.0   5.636023   0.807569  3.00000   5.0000   \n",
       "\n",
       "                           50%        75%        max  \n",
       "fixed acidity          7.90000   9.200000   15.90000  \n",
       "volatile acidity       0.52000   0.640000    1.58000  \n",
       "citric acid            0.26000   0.420000    1.00000  \n",
       "residual sugar         2.20000   2.600000   15.50000  \n",
       "chlorides              0.07900   0.090000    0.61100  \n",
       "free sulfur dioxide   14.00000  21.000000   72.00000  \n",
       "total sulfur dioxide  38.00000  62.000000  289.00000  \n",
       "density                0.99675   0.997835    1.00369  \n",
       "pH                     3.31000   3.400000    4.01000  \n",
       "sulphates              0.62000   0.730000    2.00000  \n",
       "alcohol               10.20000  11.100000   14.90000  \n",
       "quality                6.00000   6.000000    8.00000  "
      ]
     },
     "execution_count": 29,
     "metadata": {},
     "output_type": "execute_result"
    }
   ],
   "source": [
    "wine.describe(include='all').T"
   ]
  },
  {
   "cell_type": "code",
   "execution_count": 30,
   "metadata": {},
   "outputs": [
    {
     "data": {
      "text/plain": [
       "fixed acidity           0\n",
       "volatile acidity        0\n",
       "citric acid             0\n",
       "residual sugar          0\n",
       "chlorides               0\n",
       "free sulfur dioxide     0\n",
       "total sulfur dioxide    0\n",
       "density                 0\n",
       "pH                      0\n",
       "sulphates               0\n",
       "alcohol                 0\n",
       "quality                 0\n",
       "dtype: int64"
      ]
     },
     "execution_count": 30,
     "metadata": {},
     "output_type": "execute_result"
    }
   ],
   "source": [
    "wine.isnull().sum()"
   ]
  },
  {
   "cell_type": "code",
   "execution_count": 31,
   "metadata": {},
   "outputs": [
    {
     "data": {
      "text/plain": [
       "(1599, 12)"
      ]
     },
     "execution_count": 31,
     "metadata": {},
     "output_type": "execute_result"
    }
   ],
   "source": [
    "wine.shape"
   ]
  },
  {
   "cell_type": "code",
   "execution_count": 32,
   "metadata": {
    "scrolled": false
   },
   "outputs": [
    {
     "data": {
      "image/png": "[encoded data removed]",
      "text/plain": [
       "<matplotlib.figure.Figure at 0x1cc2ae7cf98>"
      ]
     },
     "metadata": {},
     "output_type": "display_data"
    }
   ],
   "source": [
    "sf.plot_count_distribution(wine,'quality','Distribution of Wine Qualities')"
   ]
  },
  {
   "cell_type": "code",
   "execution_count": 33,
   "metadata": {
    "collapsed": true
   },
   "outputs": [],
   "source": [
    "target= wine['quality']\n",
    "features = wine[wine.columns.values[:-1]]"
   ]
  },
  {
   "cell_type": "code",
   "execution_count": 34,
   "metadata": {},
   "outputs": [
    {
     "name": "stdout",
     "output_type": "stream",
     "text": [
      "(1599,)\n",
      "(1599, 11)\n"
     ]
    }
   ],
   "source": [
    "print(target.shape)\n",
    "print(features.shape)"
   ]
  },
  {
   "cell_type": "code",
   "execution_count": 35,
   "metadata": {},
   "outputs": [
    {
     "name": "stdout",
     "output_type": "stream",
     "text": [
      "Calculate Results of 30 iterations for test split size: 0.25\n",
      "Calculate Results of 30 iterations for test split size: 0.35\n",
      "Calculate Results of 30 iterations for test split size: 0.45\n",
      "Calculate Results of 30 iterations for test split size: 0.55\n",
      "Calculate Results of 30 iterations for test split size: 0.65\n",
      "Calculate Results of 30 iterations for test split size: 0.75\n",
      "Calculate Results of 30 iterations for test split size: 0.85\n"
     ]
    }
   ],
   "source": [
    "#initialize variables\n",
    "train_split_size = [.25,.35,.45,.55,.65,.75,.85]\n",
    "n_epochs = 30\n",
    "dt_param_grid = {'criterion':['gini','entropy'],\n",
    "                  'max_depth':[5,10,15,30,40],\n",
    "                  'min_sample_leaf': [1,5,10,20],\n",
    "                  'max_features': ['sqrt','log2',None],\n",
    "                  'random_state': [10]\n",
    "                }\n",
    "\n",
    "#initialize variables to store results\n",
    "error_results = np.zeros((len(train_split_size),4)) \n",
    "\n",
    "for idx in range(len(train_split_size)):\n",
    "    acc_results = sf.holdout_partition_and_eval(features,target,train_split_size[idx],n_epochs,dt_param_grid)\n",
    "    error_results[idx] = 1-acc_results\n"
   ]
  },
  {
   "cell_type": "code",
   "execution_count": 36,
   "metadata": {
    "scrolled": true
   },
   "outputs": [
    {
     "data": {
      "text/plain": [
       "array([[0.03005282, 0.36508333, 0.43461218, 0.46008333],\n",
       "       [0.10709015, 0.38017857, 0.43991017, 0.46160714],\n",
       "       [0.13773227, 0.39282407, 0.44220705, 0.45657407],\n",
       "       [0.26230876, 0.40655303, 0.44483078, 0.47094697],\n",
       "       [0.35324985, 0.41445513, 0.44680978, 0.48548077],\n",
       "       [0.346533  , 0.42072222, 0.45288221, 0.50258333],\n",
       "       [0.3474198 , 0.43009804, 0.43026499, 0.50262255]])"
      ]
     },
     "execution_count": 36,
     "metadata": {},
     "output_type": "execute_result"
    }
   ],
   "source": [
    "error_results"
   ]
  },
  {
   "cell_type": "markdown",
   "metadata": {},
   "source": [
    "#### Plot the error results"
   ]
  },
  {
   "cell_type": "code",
   "execution_count": 37,
   "metadata": {
    "scrolled": false
   },
   "outputs": [
    {
     "data": {
      "image/png": "[encoded data removed]",
      "text/plain": [
       "<matplotlib.figure.Figure at 0x1cc2aeb6550>"
      ]
     },
     "metadata": {},
     "output_type": "display_data"
    }
   ],
   "source": [
    "%matplotlib inline\n",
    "\n",
    "plt.Figure(figsize = (10,12))\n",
    "\n",
    "p1, = plt.plot(train_split_size,error_results[:,0:1].ravel(),'ro-',label = 'DT Train Error')\n",
    "p2, = plt.plot(train_split_size,error_results[:,1:2].ravel(),'ro--',label = 'DT Test Error')\n",
    "p3, = plt.plot(train_split_size,error_results[:,2:3].ravel(),'bo-',label = 'NB Train Error')\n",
    "p4, = plt.plot(train_split_size,error_results[:,3:4].ravel(),'bo--',label = 'NB Test Error')\n",
    "\n",
    "plt.title('Red Wine: Different Error Rates with Varying Training Sizes')\n",
    "plt.xticks(train_split_size)\n",
    "plt.xlabel('Train set size')\n",
    "plt.ylabel('Error Rate')\n",
    "plt.legend()\n",
    "plt.show()"
   ]
  },
  {
   "cell_type": "markdown",
   "metadata": {},
   "source": [
    "<b>Analysis:</b> For DT, the train_split_size could be anything from 0.45 to 0.75. Similarly for NB, the split size could be between 0.45-0.75.\n",
    "\n",
    "It is difficult to name one best split size since the rate of change in error is very small."
   ]
  },
  {
   "cell_type": "markdown",
   "metadata": {},
   "source": [
    "#### Banknote data"
   ]
  },
  {
   "cell_type": "code",
   "execution_count": 38,
   "metadata": {},
   "outputs": [
    {
     "data": {
      "text/plain": [
       "(1372, 5)"
      ]
     },
     "execution_count": 38,
     "metadata": {},
     "output_type": "execute_result"
    }
   ],
   "source": [
    "bank = np.loadtxt('data_banknote_authentication.txt',delimiter=',')\n",
    "bank.shape"
   ]
  },
  {
   "cell_type": "code",
   "execution_count": 39,
   "metadata": {},
   "outputs": [
    {
     "data": {
      "text/plain": [
       "array([[ 3.6216 ,  8.6661 , -2.8073 , -0.44699,  0.     ],\n",
       "       [ 4.5459 ,  8.1674 , -2.4586 , -1.4621 ,  0.     ],\n",
       "       [ 3.866  , -2.6383 ,  1.9242 ,  0.10645,  0.     ],\n",
       "       [ 3.4566 ,  9.5228 , -4.0112 , -3.5944 ,  0.     ],\n",
       "       [ 0.32924, -4.4552 ,  4.5718 , -0.9888 ,  0.     ]])"
      ]
     },
     "execution_count": 39,
     "metadata": {},
     "output_type": "execute_result"
    }
   ],
   "source": [
    "bank[:5]"
   ]
  },
  {
   "cell_type": "code",
   "execution_count": 40,
   "metadata": {
    "collapsed": true
   },
   "outputs": [],
   "source": [
    "features = bank[:,:-1]\n",
    "target = bank[:,-1]"
   ]
  },
  {
   "cell_type": "code",
   "execution_count": 41,
   "metadata": {
    "scrolled": true
   },
   "outputs": [
    {
     "name": "stdout",
     "output_type": "stream",
     "text": [
      "Calculate Results of 30 iterations for test split size: 0.25\n",
      "Calculate Results of 30 iterations for test split size: 0.35\n",
      "Calculate Results of 30 iterations for test split size: 0.45\n",
      "Calculate Results of 30 iterations for test split size: 0.55\n",
      "Calculate Results of 30 iterations for test split size: 0.65\n",
      "Calculate Results of 30 iterations for test split size: 0.75\n",
      "Calculate Results of 30 iterations for test split size: 0.85\n"
     ]
    }
   ],
   "source": [
    "#initialize variables\n",
    "train_split_size = [.25,.35,.45,.55,.65,.75,.85]\n",
    "n_epochs = 30\n",
    "dt_param_grid = {'criterion':['gini','entropy'],\n",
    "                  'max_depth':[5,10,15,30,40],\n",
    "                  'min_sample_leaf': [1,5,10,20],\n",
    "                  'max_features': ['sqrt','log2',None],\n",
    "                  'random_state': [10]\n",
    "                }\n",
    "\n",
    "#initialize variables to store results\n",
    "error_results = np.zeros((len(train_split_size),4)) \n",
    "\n",
    "for idx in range(len(train_split_size)):\n",
    "    acc_results = sf.holdout_partition_and_eval(features,target,train_split_size[idx],n_epochs,dt_param_grid)\n",
    "    error_results[idx] = 1-acc_results"
   ]
  },
  {
   "cell_type": "code",
   "execution_count": 42,
   "metadata": {},
   "outputs": [
    {
     "data": {
      "text/plain": [
       "array([[0.00236476, 0.00495627, 0.15963719, 0.15617104],\n",
       "       [0.00246914, 0.00783091, 0.15824916, 0.15571726],\n",
       "       [0.00114943, 0.00906149, 0.15778073, 0.15442287],\n",
       "       [0.00027012, 0.01231788, 0.15375473, 0.15871965],\n",
       "       [0.00222222, 0.01263079, 0.15229167, 0.1577728 ],\n",
       "       [0.004276  , 0.01720117, 0.15199223, 0.15704568],\n",
       "       [0.00276423, 0.02802057, 0.14406504, 0.15889746]])"
      ]
     },
     "execution_count": 42,
     "metadata": {},
     "output_type": "execute_result"
    }
   ],
   "source": [
    "error_results"
   ]
  },
  {
   "cell_type": "markdown",
   "metadata": {},
   "source": [
    "#### Plot the error results"
   ]
  },
  {
   "cell_type": "code",
   "execution_count": 43,
   "metadata": {
    "scrolled": false
   },
   "outputs": [
    {
     "data": {
      "image/png": "[encoded data removed]",
      "text/plain": [
       "<matplotlib.figure.Figure at 0x1cc2ab29eb8>"
      ]
     },
     "metadata": {},
     "output_type": "display_data"
    }
   ],
   "source": [
    "%matplotlib inline\n",
    "\n",
    "plt.Figure(figsize = (10,12))\n",
    "\n",
    "p1, = plt.plot(train_split_size,error_results[:,0:1].ravel(),'ro-',label = 'DT Train Error')\n",
    "p2, = plt.plot(train_split_size,error_results[:,1:2].ravel(),'ro--',label = 'DT Test Error')\n",
    "p3, = plt.plot(train_split_size,error_results[:,2:3].ravel(),'bo-',label = 'NB Train Error')\n",
    "p4, = plt.plot(train_split_size,error_results[:,3:4].ravel(),'bo--',label = 'NB Test Error')\n",
    "\n",
    "plt.title('Different Error Rates with Varying Training Sizes')\n",
    "plt.xticks(train_split_size)\n",
    "plt.xlabel('Train set size')\n",
    "plt.ylabel('Error Rate')\n",
    "plt.legend()\n",
    "plt.show()"
   ]
  },
  {
   "cell_type": "markdown",
   "metadata": {},
   "source": [
    "<b>Analysis:</b> The error rate for train and test set is very low overall for Decision Tree, since there are only 4 features in this dataset, the decision tree is very accurate in its predictions. However, we should note that there are more chances of overfitting the model in DT.\n",
    "\n",
    "For DT, the best train_split_size could be anything from 0.25 to 0.65.  For NB, the best train_split_size could be 0.85 since the train and test errors are lowest at this point.\n",
    "\n",
    "It is difficult to name one best split size since the rate of change in error is very small."
   ]
  },
  {
   "cell_type": "code",
   "execution_count": null,
   "metadata": {
    "collapsed": true
   },
   "outputs": [],
   "source": []
  }
 ],
 "metadata": {
  "kernelspec": {
   "display_name": "Python 3",
   "language": "python",
   "name": "python3"
  }
 },
 "nbformat": 4,
 "nbformat_minor": 2
}
